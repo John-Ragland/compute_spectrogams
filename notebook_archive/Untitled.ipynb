{
 "cells": [
  {
   "cell_type": "markdown",
   "id": "b9a619ef-9996-4c7e-91a0-9b03901a5aa6",
   "metadata": {},
   "source": [
    "# Creating Single Monthlong Spectrogram File"
   ]
  },
  {
   "cell_type": "code",
   "execution_count": 2,
   "id": "6896cb65-fbfb-4859-9eb7-619fe855953f",
   "metadata": {},
   "outputs": [],
   "source": [
    "import pickle\n",
    "import ooipy\n",
    "import spec_tools"
   ]
  },
  {
   "cell_type": "code",
   "execution_count": 3,
   "id": "a857e4fe-3ebf-43bb-8e0b-3ff9c0f20c9a",
   "metadata": {},
   "outputs": [
    {
     "name": "stderr",
     "output_type": "stream",
     "text": [
      "100%|██████████| 730/730 [02:19<00:00,  5.25it/s]======================= ]  98%\n"
     ]
    }
   ],
   "source": [
    "spec_dir = '/Volumes/Ocean_Acoustics/Spectrograms/Central_Caldera/2017/'\n",
    "spec = spec_tools.merge(8029,8759, spec_dir=spec_dir, verbose=True)"
   ]
  },
  {
   "cell_type": "code",
   "execution_count": null,
   "id": "d0f7584c-a657-443f-8ed8-7b2385a524d6",
   "metadata": {},
   "outputs": [],
   "source": [
    "file_name = '/Volumes/Ocean_Acoustics/Spectrograms/Central_Caldera/2017_full_spec.pkl'\n",
    "\n",
    "with open(file_name, 'wb') as f:\n",
    "    pickle.dump(spec, f)"
   ]
  },
  {
   "cell_type": "code",
   "execution_count": 4,
   "id": "5f0e641a-a84d-4a23-a118-084b30cee651",
   "metadata": {},
   "outputs": [
    {
     "ename": "AttributeError",
     "evalue": "'tuple' object has no attribute 'values'",
     "output_type": "error",
     "traceback": [
      "\u001b[0;31m---------------------------------------------------------------------------\u001b[0m",
      "\u001b[0;31mAttributeError\u001b[0m                            Traceback (most recent call last)",
      "\u001b[0;32m<ipython-input-4-dae5b8076123>\u001b[0m in \u001b[0;36m<module>\u001b[0;34m\u001b[0m\n\u001b[0;32m----> 1\u001b[0;31m \u001b[0mspec\u001b[0m\u001b[0;34m.\u001b[0m\u001b[0mvalues\u001b[0m\u001b[0;34m.\u001b[0m\u001b[0mshape\u001b[0m\u001b[0;34m\u001b[0m\u001b[0;34m\u001b[0m\u001b[0m\n\u001b[0m",
      "\u001b[0;31mAttributeError\u001b[0m: 'tuple' object has no attribute 'values'"
     ]
    }
   ],
   "source": [
    "spec.values.shape"
   ]
  },
  {
   "cell_type": "code",
   "execution_count": null,
   "id": "31dbb7c8-b53f-4e6e-9ba8-e36ea48a32bf",
   "metadata": {},
   "outputs": [],
   "source": []
  }
 ],
 "metadata": {
  "kernelspec": {
   "display_name": "Python 3",
   "language": "python",
   "name": "python3"
  },
  "language_info": {
   "codemirror_mode": {
    "name": "ipython",
    "version": 3
   },
   "file_extension": ".py",
   "mimetype": "text/x-python",
   "name": "python",
   "nbconvert_exporter": "python",
   "pygments_lexer": "ipython3",
   "version": "3.7.10"
  }
 },
 "nbformat": 4,
 "nbformat_minor": 5
}
